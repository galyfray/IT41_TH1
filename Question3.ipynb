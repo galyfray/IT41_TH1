{
 "cells": [
  {
   "source": [
    "# 3) Product of matrices of special shape\n",
    "\n",
    "---\n",
    "\n",
    "## 1. Sum and product of two $T$-matrices\n",
    "\n",
    "### Let's prove that the sum of two $T$-matrices is a $T$-matrix\n",
    "\n",
    "Let $A$ and $B$ be two $T$-matrices of size $(n+1)*(n+1)$, with $a_{i, j}$ and $b_{i, j}$ the factors of these matrices, $T$-matrices are defined so that $a_{i+1, j+1} = a_{i, j}$ and similarly for the matrix $B$, finally if we sum $A$ and $B$ to obtain the matrix $C$, let's define $c_{i, j}$ the factors of $C$.\n",
    "\n",
    "We obtain that $$c_{i, j} = a_{i, j} + b_{i, j}$$ and in particular for $i+1$ and $j+1$ we obtain $$c_{i+1, j+1} = a_{i+1, j+1} + b_{i+1, j+1}\\\\\n",
    "\\Leftrightarrow c_{i+1, j+1} = a_{i, j} + b{i,j}$$ by definition of $A$ and $B$.\n",
    "\n",
    "Thus, $$c_{i+1, j+1} = c_{i, j}$$ then we can conclude that $C$ is a $T$-matrix and that a sum of two $T$-matrices is a $T$-Matrix.\n",
    "\n",
    "Concerning the multiplication of $T$-matrices, there's nothing that we can apparently say about the multiplication of two matrices (example to do)"
   ],
   "cell_type": "markdown",
   "metadata": {}
  },
  {
   "source": [
    "### 2. Representation of $T$-matrices\n",
    "\n"
   ],
   "cell_type": "markdown",
   "metadata": {}
  }
 ],
 "metadata": {
  "kernelspec": {
   "display_name": "Python 3",
   "language": "python",
   "name": "python3"
  },
  "language_info": {
   "codemirror_mode": {
    "name": "ipython",
    "version": 3
   },
   "file_extension": ".py",
   "mimetype": "text/x-python",
   "name": "python",
   "nbconvert_exporter": "python",
   "pygments_lexer": "ipython3",
   "version": "3.8.5"
  }
 },
 "nbformat": 4,
 "nbformat_minor": 4
}