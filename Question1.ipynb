{
 "cells": [
  {
   "cell_type": "markdown",
   "metadata": {},
   "source": [
    "*note sur ce qu'il faut qu'Aurore fasse *:\n",
    "- Trouver des meilleurs titre de partie\n",
    "- Faire un algo RSA qui marche bien\n",
    "- Faire le schéma recap en anglais\n",
    "- parler de la taille des clés : \"Les nombres pris ici sont volontairement petits pour un souci de compré- hension et lisibilité mais, dans la réalité, les clés utilisées et recommandées pour une sécurité optimale sont de 2048 bits, voire 4096 bits pour un usage sensible.\"\n",
    "- improve my English level lol\n",
    "- dormir zzzzzz"
   ]
  },
  {
   "cell_type": "markdown",
   "metadata": {},
   "source": [
    "# RSA encryption"
   ]
  },
  {
   "cell_type": "markdown",
   "metadata": {},
   "source": [
    "**RSA encryption** is an asymitric cryptosystem created by three searchers of the MIT, Ronald **R**ivest, Adi **S**hamir and Leonard **A**dleman in 1977. They were looking for a way to proove that public-key cryptography was flawed. They finally found a system which is still used nowadays for confidential communications and safe authentification online.   "
   ]
  },
  {
   "cell_type": "markdown",
   "metadata": {},
   "source": [
    "## I - Principle"
   ]
  },
  {
   "cell_type": "markdown",
   "metadata": {},
   "source": [
    "### How does it works"
   ]
  },
  {
   "cell_type": "markdown",
   "metadata": {},
   "source": [
    "The cryptosystem is based on arithmetical propreties such as Fermat's Little Theorem, Gauss theorem or modulus computations, and an efficient combinaisons of algorithms including the Euclid's Algorithm and the Fast Exponentiation algorithm. It also uses the many propreties of prime numbers, showing that these numbers are always a powerful tool to use in cryptographie due to the many problems about them that are unsolve (Goldbach conjecture for instance).\n",
    "\n",
    "By beeing a public-key cryptosystem, the RSA encryption uses three keys : \n",
    "- __two public keys__ to encrypt called $n$ and $e$ ($n$ is also use to decrypt) known by absolutely everybody\n",
    "- __one private key__ to decrypt, $d$ wich have to be secret. \n",
    "\n",
    "To encrypt and decrypt, the function used is the modular exponentiation.\n"
   ]
  },
  {
   "cell_type": "markdown",
   "metadata": {},
   "source": [
    "### Exemple of use : Alice and Bob (and Eve)"
   ]
  },
  {
   "cell_type": "markdown",
   "metadata": {},
   "source": [
    "Now let's tell the story of Alice and Bob who want to talk discreetly to each other online. They know that, Eve, a spy, are listening to them. They have to cypher their messages before sending them. That's why by using RSA encryption Alice who wants to receive Bob's secret message created the required keys and shares the public keys $(n,e)$ to Bob (and indirectly Eve since she's spying) but keeps secret the private key $d$. Then, Bob encrypts his message $M$ with $n$ and $e$ : $$M^{e}\\equiv C\\mod{n}$$\n",
    "\n",
    "And once Alice receives $C$ the encrypted message $M$, she does the reverse computation with her private key: $$C^{d}\\equiv M\\mod{n}$$\n",
    "\n",
    "As Eve doesn't know the secret key to make the same computation as Alice, she can't read the message."
   ]
  },
  {
   "cell_type": "code",
   "execution_count": 6,
   "metadata": {},
   "outputs": [],
   "source": [
    "## mettre le schéma ici "
   ]
  },
  {
   "cell_type": "markdown",
   "metadata": {},
   "source": [
    "### How to compute the keys ?"
   ]
  },
  {
   "cell_type": "markdown",
   "metadata": {},
   "source": [
    "In order to create the required key to cipher a message, we fisrt need to *generate two -large- prime numbers* we can called $p$ and $q$ which the product gives the first encryption/decryption key $n$. $$n = p \\times q  \\text{ ($p$ and $q$ are prime)}$$\n",
    "\n",
    "Then, we need to compute a useful number $\\phi(n)$ given by the Euler's phi function which gives the number of coprime numbers with $n$. Computing this function for p a prime number is easely since a prime number is coprime with $\\forall a < p-1$. What makes that we have : $$\\phi(n) = \\phi(p\\times q) = (p-1)(q-1)$$\n",
    "\n",
    "We must get the second public key $e$, a chosen integer which have to be coprime with $\\phi(n)$ and less than $\\phi(n)$. It's in this step that the *Euclid's algorithm* is used. $$gdc(\\phi(n),e) = 1$$\n",
    "\n",
    "Finally, all that's left to do is to compute $d$, the secret and decryption key d, the inverse of $e\\mod n$. Its means that $\\exists (d,k) \\in \\mathbb{Z^2} $ such that $ed+k\\phi(n) = 1$. We can draw a parallel with the Bézout's identity which also implies to use the *Extended Euclid's algorithm* to solve $$ed\\equiv 1 \\mod \\phi(n)$$ \n",
    "\n",
    "We did it ! We can encrypt and decrypt quickly thanks to *Fast Exponentiation algorithm*.\n"
   ]
  },
  {
   "cell_type": "markdown",
   "metadata": {},
   "source": [
    "## II - RSA encryption program"
   ]
  },
  {
   "cell_type": "markdown",
   "metadata": {},
   "source": [
    "The best way to show what going on during the message transmission between Alice and Bob is to test by yourself with the following python program :"
   ]
  },
  {
   "cell_type": "code",
   "execution_count": 5,
   "metadata": {},
   "outputs": [],
   "source": [
    "## code à bcp mieux agencer parce que c'est pas ce que je veux :\n",
    "# Disclaimer : don't use for security purpose !\n",
    "\n",
    "import binascii\n",
    "import math\n",
    "\n",
    "#algorithme d'euclide étendu pour la recherche de l'exposant secret\n",
    "def euclidExtended(a,b):\n",
    "    (u, v, new_u, new_v) = (1, 0, 0, 1)\n",
    "    (B, A) = (b, a)\n",
    "\n",
    "    while b != 0:\n",
    "        (q, r) = divmod(a, b)  # (y // b, y % b)\n",
    "        (a, b) = (b, r)\n",
    "        (a, v, new_u, new_v) = (new_u, new_v, u - q * new_u, v - q * new_v)\n",
    "\n",
    "    if B<A:\n",
    "        return v%B\n",
    "    else:\n",
    "        return u%A\n",
    "\n",
    "# To convert string to int \n",
    "def string_to_int(x):\n",
    "    to_int =0\n",
    "    for i in reversed(range(len(x))):\n",
    "        to_int =int(ord(x[i]))*pow(2,(8*i))+to_int\n",
    "    return(to_int)\n",
    "\n",
    "\n",
    "def int_to_string(x): # pour transformer un int en string\n",
    "    text=''\n",
    "    tmp1=x\n",
    "    while tmp1>0:\n",
    "        res=tmp1%(pow(2,8))\n",
    "        tmp1=(tmp1-res)//(pow(2,8))\n",
    "        text=text+chr(res)\n",
    "    return text\n",
    "\n",
    "\n",
    "def char10_message(): #entrer le secret\n",
    "    secret_message=input(\"Enter a maximum 10-long-secret message : \")\n",
    "    while (len(secret_message)>11):\n",
    "        secret_message=input(\"Too long ! Enter a maximum 10-long-secret message : \")\n",
    "    return(secret_message)\n",
    "    \n",
    "\n",
    "#voici les éléments de la clé d'Alice\n",
    "pa=2010942103422233250095259520183 #p\n",
    "qa=3503815992030544427564583819137 #q\n",
    "na=pa*qa  #n\n",
    "phia=((pa-1)*(qa-1))//math.gcd(pa-1,qa-1)\n",
    "ea=17 #exposant public\n",
    "da=euclidExtended(phia,ea) #exposant privé\n",
    "#voici les éléments de la clé de bob\n",
    "pb=9434659759111223227678316435911 #p\n",
    "qb=8842546075387759637728590482297 #q\n",
    "nb=qb*pb # n\n",
    "phib=((pb-1)*(qb-1))//math.gcd(pb-1,qb-1)\n",
    "eb=23 # exposants public\n",
    "db=euclidExtended(phib,eb) #exposant privé\n",
    "\n",
    "## a continuer\n"
   ]
  },
  {
   "cell_type": "code",
   "execution_count": null,
   "metadata": {},
   "outputs": [],
   "source": []
  }
 ],
 "metadata": {
  "kernelspec": {
   "display_name": "Python 3",
   "language": "python",
   "name": "python3"
  },
  "language_info": {
   "codemirror_mode": {
    "name": "ipython",
    "version": 3
   },
   "file_extension": ".py",
   "mimetype": "text/x-python",
   "name": "python",
   "nbconvert_exporter": "python",
   "pygments_lexer": "ipython3",
   "version": "3.8.2"
  }
 },
 "nbformat": 4,
 "nbformat_minor": 4
}
