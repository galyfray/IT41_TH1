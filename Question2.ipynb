{
 "cells": [
  {
   "cell_type": "markdown",
   "metadata": {},
   "source": [
    "# 2) Sorting Algorithms\n",
    "\n",
    "---\n",
    "\n",
    "## 1. Quick Sort\n",
    "\n",
    "We will take a look at the Quick Sort as our third algorithm. Just as the Merge Sort it is a divide and conquer algorithm.\n",
    "The merge sort split an array in two smaller until the sorting of this array is trival and then merge the sorted array in a new array while keeping the sorting property. Meaning that most of the cost is spent in merging than in dividing. In the Quick Sort algorithm most of the cost is in the dividing part of the algorithm. Instead of spliting in two unsorted array the Quick Sort split in two array such as every element in the first array is smaller than every element in the second. The two arrays created this way will in most of the case have different size if we choose the delimiter randomly leading in a worst case scenario in O(n²). It is possible to always use the best pivot by using the median of the array, however the time spent looking for the meadian doesn't worth the time loose by randomly choosing a pivot in most of the cases.\n",
    "\n",
    "Quick Sort had some improovement over the time, we will cover some of them and try to see witch one perform the better in python.\n",
    "\n",
    "## 2. Implementing Sorts"
   ]
  },
  {
   "cell_type": "code",
   "execution_count": 1,
   "metadata": {},
   "outputs": [],
   "source": [
    "def select_sort(T):\n",
    "    n=len(T)\n",
    "    for i in range(n-1):\n",
    "        mini=i\n",
    "        for j in range(i+1,n):\n",
    "            if(T[j]<T[mini]):\n",
    "                mini=j\n",
    "        if(mini!=i):\n",
    "            k=T[i]\n",
    "            T[i]=T[mini]\n",
    "            T[mini]=k\n",
    "    return T\n",
    "\n",
    "def merge(A,B):\n",
    "    maxA=len(A)\n",
    "    maxB=len(B)\n",
    "    c=[]\n",
    "    a=0\n",
    "    b=0\n",
    "    while (a!=maxA and b!=maxB):\n",
    "        if(A[a]<B[b]):\n",
    "            c.append(A[a])\n",
    "            a+=1\n",
    "        else:\n",
    "            c.append(B[b])\n",
    "            b+=1\n",
    "\n",
    "    while(a!=maxA):\n",
    "        c.append(A[a])\n",
    "        a+=1\n",
    "        \n",
    "    while(b!=maxB):\n",
    "        c.append(B[b])\n",
    "        b+=1\n",
    "    \n",
    "    return c\n",
    "\n",
    "def merge_sort(data):\n",
    "    n=len(data)\n",
    "    if n>1 :\n",
    "        D1=merge_sort(data[:n//2])\n",
    "        D2=merge_sort(data[n//2:])\n",
    "        return merge(D1,D2)\n",
    "    return data\n",
    "    \n",
    "def quick_sort(data,start=0,end=None):\n",
    "    if end == None:\n",
    "        end = len(data)-1\n",
    "    elif end >= len(data):\n",
    "        end = len(data)-1\n",
    "    if start >= end:\n",
    "        return\n",
    "    \n",
    "    p = (start + end)//2\n",
    "    j = start\n",
    "    s = data[end]\n",
    "    data[end]=data[p]\n",
    "    data[p] = s\n",
    "    for i in range(start,end):\n",
    "        if(data[i]<= data[end]):\n",
    "            s=data[i]\n",
    "            data[i] = data[j]\n",
    "            data[j] = s\n",
    "            j+=1\n",
    "    p=j\n",
    "    \n",
    "    s = data[end]\n",
    "    data[end]=data[p]\n",
    "    data[p] = s\n",
    "    \n",
    "    quick_sort(data,start,p-1)\n",
    "    quick_sort(data,p+1,end)\n",
    "    return(data)"
   ]
  },
  {
   "cell_type": "markdown",
   "metadata": {},
   "source": [
    "The `merge` function as been adapted to avoid trying to acces to undifined parts of B and A. The quick sort has been implemented usinf the lomuto partition scheme and both algorithms have been implemented naively in the sense that no specific considaration about the time cost of growing array or any optisation possible by using specific python's behavior has been taken. \n",
    "  \n",
    "Now in order to test the functions we will need some other functions."
   ]
  },
  {
   "cell_type": "code",
   "execution_count": 82,
   "metadata": {},
   "outputs": [],
   "source": [
    "import random\n",
    "import numpy as np\n",
    "import matplotlib.pyplot as plt\n",
    "import timeit\n",
    "\n",
    "def near(data, value):\n",
    "    n = len(data)\n",
    "    assert n > 0\n",
    "    if(n == 1):\n",
    "        return 0\n",
    "    left = 0\n",
    "    right = n - 1\n",
    "    middle = 0\n",
    "    while left <= right:\n",
    "        middle = (left + right) // 2\n",
    "        if value < data[middle]:\n",
    "            right = middle - 1\n",
    "        elif value > data[middle]:\n",
    "            left = middle + 1\n",
    "        else:\n",
    "            return middle\n",
    "    return middle\n",
    "\n",
    "def createRandomSortedList(num,start = 1,end = None):\n",
    "    if(end == None):\n",
    "        end = start+num*10\n",
    "    arr = [random.randint(start,end)]\n",
    "    tmp = random.randint(start,end)\n",
    "    assert end-start>num\n",
    "    for x in range(num-1):\n",
    "        i = near(arr,tmp)\n",
    "        while arr[i]==tmp:\n",
    "            tmp = random.randint(start,end)\n",
    "            i=near(arr,tmp)\n",
    "        if arr[i] > tmp:\n",
    "            arr.insert(i,tmp)\n",
    "        else:\n",
    "            arr.insert(i+1,tmp)\n",
    "    return arr\n",
    "\n",
    "def createRandomUnSortedList(num, start = 1, end = None):\n",
    "    if(end == None):\n",
    "        end = start+num*10\n",
    "    Sarr = createRandomSortedList(num,start,end)\n",
    "    random.shuffle(Sarr)\n",
    "    return Sarr\n",
    "\n",
    "def logEmpty(n):\n",
    "    i =0\n",
    "    while i<n:\n",
    "        n/=2\n",
    "        i+=1\n",
    "\n",
    "def plotTime(funList,points,argProvider,plot,repeat:int = 10):\n",
    "    timeVal={fun.__name__:[0]*len(points) for fun in funList}\n",
    "    \n",
    "    for (i,v) in enumerate(points):\n",
    "        for _ in range(repeat):\n",
    "            args = argProvider(v)\n",
    "            for fun in funList:\n",
    "                timeVal[fun.__name__][i] += timeit.timeit(lambda: fun(*args), number=1)\n",
    "        \n",
    "        for fun in funList:\n",
    "            timeVal[fun.__name__][i] /= repeat\n",
    "    \n",
    "    for fun in funList:\n",
    "        plot.plot(points,timeVal[fun.__name__],label=fun.__name__)\n",
    "    plt.xlabel(\"value of n\")\n",
    "    plt.ylabel(\"time (s)\")\n",
    "    plot.legend()\n",
    "    \n",
    "    return (plot,timeVal)\n",
    "\n",
    "def linspace(min:int,max:int,number:int):\n",
    "    return [int(x) for x in np.linspace(min,max,number)]"
   ]
  },
  {
   "cell_type": "markdown",
   "metadata": {},
   "source": [
    "All of the folling curves will be made using the `plotTime` function, this function allow for different argument depending on the size of the problem and redondant measures to improove accuraty. For each repetition of the mesure new arguments are generated and argument are shared by all of the functions tested during this repeatition. "
   ]
  },
  {
   "cell_type": "code",
   "execution_count": 3,
   "metadata": {},
   "outputs": [],
   "source": [
    "array = createRandomUnSortedList(100000)"
   ]
  },
  {
   "cell_type": "code",
   "execution_count": null,
   "metadata": {},
   "outputs": [],
   "source": [
    "plotTime([merge_sort,quick_sort,select_sort],linspace(2,1000,100),lambda n:[array[:n]],plt)\n",
    "plt.show()"
   ]
  },
  {
   "cell_type": "code",
   "execution_count": null,
   "metadata": {},
   "outputs": [],
   "source": [
    "plotTime([merge_sort,quick_sort],linspace(1000,5000,200),lambda n:[array[:n]],plt)\n",
    "plt.show()"
   ]
  },
  {
   "cell_type": "code",
   "execution_count": null,
   "metadata": {},
   "outputs": [],
   "source": [
    "plotTime([merge_sort,quick_sort],linspace(20000,30000,100),lambda n:[array[:n]],plt)\n",
    "plt.show()"
   ]
  },
  {
   "cell_type": "markdown",
   "metadata": {},
   "source": [
    "As we can see the selection sort is really inneficent compared to the merge sort and the quick sort. We can also notice that the quick sort is less stable and predictable than the merge sort. We will now try to improve our quick sort and merge sort."
   ]
  },
  {
   "cell_type": "code",
   "execution_count": 20,
   "metadata": {},
   "outputs": [],
   "source": [
    "def quick_sort_hoare(data,start=0,end=None):\n",
    "    if end == None:\n",
    "        end = len(data)-1\n",
    "    elif end >= len(data):\n",
    "        end = len(data)-1\n",
    "    if start >= end:\n",
    "        return\n",
    "    \n",
    "    p = data[(start + end)//2]\n",
    "    i = start\n",
    "    j = end\n",
    "    \n",
    "    while True :\n",
    "        \n",
    "        while data[i]<p :\n",
    "            i+=1\n",
    "        \n",
    "        while data[j]>p:\n",
    "            j-=1\n",
    "        \n",
    "        if i>=j:\n",
    "            break\n",
    "        \n",
    "        s=data[i]\n",
    "        data[i]=data[j]\n",
    "        data[j]=s\n",
    "    \n",
    "    quick_sort_hoare(data,start,j-1)\n",
    "    quick_sort_hoare(data,j+1,end)\n",
    "    return(data)"
   ]
  },
  {
   "cell_type": "code",
   "execution_count": null,
   "metadata": {},
   "outputs": [],
   "source": [
    "plotTime([quick_sort,quick_sort_hoare,merge_sort],linspace(60000,70000,100),lambda n:[array[:n]],plt)\n",
    "plt.show()"
   ]
  },
  {
   "cell_type": "markdown",
   "metadata": {},
   "source": [
    "As we can see here simply changing the way we split our array in two improove our quick sort making it less chaotic and more time efficent than the merge sort. Another way of optimizing the quick sort is to replace it by another sort for sorter array."
   ]
  },
  {
   "cell_type": "code",
   "execution_count": 36,
   "metadata": {},
   "outputs": [],
   "source": [
    "def quick_sort_select(data,start=0,end=None,threshold=10):\n",
    "    if end == None:\n",
    "        end = len(data)-1\n",
    "    elif end >= len(data):\n",
    "        end = len(data)-1\n",
    "    if start >= end:\n",
    "        return \n",
    "    if end-start <= threshold :\n",
    "        return select_sort(data)\n",
    "    \n",
    "    p = data[(start + end)//2]\n",
    "    i = start\n",
    "    j = end\n",
    "    \n",
    "    while True :\n",
    "        \n",
    "        while data[i]<p :\n",
    "            i+=1\n",
    "        \n",
    "        while data[j]>p:\n",
    "            j-=1\n",
    "        \n",
    "        if i>=j:\n",
    "            break\n",
    "        \n",
    "        s=data[i]\n",
    "        data[i]=data[j]\n",
    "        data[j]=s\n",
    "    \n",
    "    quick_sort_select(data,start,j-1)\n",
    "    quick_sort_select(data,j+1,end)\n",
    "    return(data)\n",
    "\n",
    "def quick_sort_merge(data,start=0,end=None,threshold=10):\n",
    "    if end == None:\n",
    "        end = len(data)-1\n",
    "    elif end >= len(data):\n",
    "        end = len(data)-1\n",
    "    if start >= end:\n",
    "        return \n",
    "    if end-start <= threshold :\n",
    "        return merge_sort(data)\n",
    "    \n",
    "    p = data[(start + end)//2]\n",
    "    i = start\n",
    "    j = end\n",
    "    \n",
    "    while True :\n",
    "        \n",
    "        while data[i]<p :\n",
    "            i+=1\n",
    "        \n",
    "        while data[j]>p:\n",
    "            j-=1\n",
    "        \n",
    "        if i>=j:\n",
    "            break\n",
    "        \n",
    "        s=data[i]\n",
    "        data[i]=data[j]\n",
    "        data[j]=s\n",
    "    \n",
    "    quick_sort_merge(data,start,j-1)\n",
    "    quick_sort_merge(data,j+1,end)\n",
    "    return(data)\n",
    "\n",
    "def bubble_sort(data,start=0,end=None):\n",
    "    if end == None:\n",
    "        end = len(data)-1\n",
    "        \n",
    "    for i in range(start,end+1):\n",
    "        for j in range(start,end-(i-start)):\n",
    "            if(data[j]>data[j+1]):\n",
    "                s=data[j]\n",
    "                data[j]=data[j+1]\n",
    "                data[j+1]=s\n",
    "    return data\n",
    "\n",
    "def quick_sort_bubble(data,start=0,end=None,threshold=10):\n",
    "    if end == None:\n",
    "        end = len(data)-1\n",
    "    elif end >= len(data):\n",
    "        end = len(data)-1\n",
    "    if start >= end:\n",
    "        return \n",
    "    if end-start <= threshold :\n",
    "        return bubble_sort(data,start,end)\n",
    "    \n",
    "    p = data[(start + end)//2]\n",
    "    i = start\n",
    "    j = end\n",
    "    \n",
    "    while True :\n",
    "        \n",
    "        while data[i]<p :\n",
    "            i+=1\n",
    "        \n",
    "        while data[j]>p:\n",
    "            j-=1\n",
    "        \n",
    "        if i>=j:\n",
    "            break\n",
    "        \n",
    "        s=data[i]\n",
    "        data[i]=data[j]\n",
    "        data[j]=s\n",
    "    \n",
    "    quick_sort_bubble(data,start,j)\n",
    "    quick_sort_bubble(data,j+1,end)\n",
    "    return(data)"
   ]
  },
  {
   "cell_type": "code",
   "execution_count": null,
   "metadata": {
    "scrolled": true
   },
   "outputs": [],
   "source": [
    "plotTime([quick_sort_select,quick_sort_merge,quick_sort_bubble],linspace(2,10000,100),lambda n:[array[:n]],plt)\n",
    "plt.show()"
   ]
  },
  {
   "cell_type": "markdown",
   "metadata": {},
   "source": [
    "As we can see here the version using the selection sort is way heavier than the two others but more surprisingly the bubble sort version plair fair with the merge sort version whereas the bubble sort is know for it's unffectiveness. But it's not like they are equivalent on low value of n but when n goes larger the merge version gain in effectiveness it's the exact opposite. "
   ]
  },
  {
   "cell_type": "code",
   "execution_count": null,
   "metadata": {},
   "outputs": [],
   "source": [
    "plotTime([quick_sort_merge,quick_sort_bubble],linspace(30000,40000,100),lambda n:[array[:n]],plt)\n",
    "plt.show()"
   ]
  },
  {
   "cell_type": "markdown",
   "metadata": {},
   "source": [
    "Now we have the best hybride we can compaire it ,with the original quick sort. As we can see here the bubble hybride is better than the original. The difference is not increadible but still there and really impressive knowing how inneficient is the bubble sort"
   ]
  },
  {
   "cell_type": "code",
   "execution_count": 66,
   "metadata": {},
   "outputs": [
    {
     "data": {
      "image/png": "[encoded data removed]",
      "text/plain": [
       "<Figure size 432x288 with 1 Axes>"
      ]
     },
     "metadata": {
      "needs_background": "light"
     },
     "output_type": "display_data"
    }
   ],
   "source": [
    "plotTime([quick_sort_hoare,quick_sort_bubble],linspace(30000,40000,100),lambda n:[array[:n]],plt)\n",
    "plt.show()"
   ]
  },
  {
   "cell_type": "markdown",
   "metadata": {},
   "source": [
    "The question is know : Why is the bubble hybride better than the original ?  \n",
    "This question have three answer that could explainthe current curve. \n",
    "- The first explanation is the bubble sort come after the quick already did a lot of work and made the array \"K sorted\" meaning all the element are at most at k place away from where they should be. Knowing this a some sort can take advantage of this and sorting on one of there best case most of the time.\n",
    "- The second explanation is those sort does less work on smaller arrays than the quick sort which start making a lot of swap when the array goes smaller compared to the first itaration.\n",
    "- Last but not least explanation : recurcive function are always heavier than the same function not recusive. This simply mean that in practice there is an extra cost of calling recurcivly a function. As the array is splited in smaler parts the cost of recurtion double each new spliting but by mooving up the minimal size we avoid a big part of this cost.\n",
    "\n",
    "The first solution is not the right as the current implementation is far from optimal and the best cases doesn't exist with this version. However the second and third possibilities can explain this difference, even if in the case of the second explainantion we can doubt the current implementation does less work on smaller arrays.  \n",
    "By first using a bad implementation of the sort we can easly see which part of the time gain we earn from algorithm optimisation and which comes from implementation optimisation.\n"
   ]
  },
  {
   "cell_type": "code",
   "execution_count": 62,
   "metadata": {},
   "outputs": [],
   "source": [
    "def sbubble_sort(data,start=0,n=None):\n",
    "    if n == None:\n",
    "        n = len(data)\n",
    "    while n > 0:\n",
    "        newn = 0\n",
    "        for j in range(start+1,n):\n",
    "            if(data[j-1]>data[j]):\n",
    "                s=data[j]\n",
    "                data[j]=data[j-1]\n",
    "                data[j-1]=s\n",
    "                newn=j\n",
    "        n=newn\n",
    "    return data\n",
    "\n",
    "def quick_sort_sbubble(data,start=0,end=None,threshold=10):\n",
    "    if end == None:\n",
    "        end = len(data)-1\n",
    "    elif end >= len(data):\n",
    "        end = len(data)-1\n",
    "    if start >= end:\n",
    "        return \n",
    "    if end-start <= threshold :\n",
    "        return sbubble_sort(data,start,end+1)\n",
    "    \n",
    "    p = data[(start + end)//2]\n",
    "    i = start\n",
    "    j = end\n",
    "    \n",
    "    while True :\n",
    "        \n",
    "        while data[i]<p :\n",
    "            i+=1\n",
    "        \n",
    "        while data[j]>p:\n",
    "            j-=1\n",
    "        \n",
    "        if i>=j:\n",
    "            break\n",
    "        \n",
    "        s=data[i]\n",
    "        data[i]=data[j]\n",
    "        data[j]=s\n",
    "    \n",
    "    quick_sort_sbubble(data,start,j-1)\n",
    "    quick_sort_sbubble(data,j+1,end)\n",
    "    return(data)"
   ]
  },
  {
   "cell_type": "code",
   "execution_count": 84,
   "metadata": {
    "scrolled": true
   },
   "outputs": [
    {
     "ename": "KeyboardInterrupt",
     "evalue": "",
     "output_type": "error",
     "traceback": [
      "\u001b[0;31m---------------------------------------------------------------------------\u001b[0m",
      "\u001b[0;31mKeyboardInterrupt\u001b[0m                         Traceback (most recent call last)",
      "\u001b[0;32m<ipython-input-84-fdda99797771>\u001b[0m in \u001b[0;36m<module>\u001b[0;34m\u001b[0m\n\u001b[0;32m----> 1\u001b[0;31m \u001b[0mplotTime\u001b[0m\u001b[0;34m(\u001b[0m\u001b[0;34m[\u001b[0m\u001b[0mquick_sort_bubble\u001b[0m\u001b[0;34m,\u001b[0m\u001b[0mquick_sort_hoare\u001b[0m\u001b[0;34m,\u001b[0m\u001b[0mquick_sort_sbubble\u001b[0m\u001b[0;34m]\u001b[0m\u001b[0;34m,\u001b[0m\u001b[0mlinspace\u001b[0m\u001b[0;34m(\u001b[0m\u001b[0;36m80000\u001b[0m\u001b[0;34m,\u001b[0m\u001b[0;36m90000\u001b[0m\u001b[0;34m,\u001b[0m\u001b[0;36m100\u001b[0m\u001b[0;34m)\u001b[0m\u001b[0;34m,\u001b[0m\u001b[0;32mlambda\u001b[0m \u001b[0mn\u001b[0m\u001b[0;34m:\u001b[0m\u001b[0;34m[\u001b[0m\u001b[0marray\u001b[0m\u001b[0;34m[\u001b[0m\u001b[0;34m:\u001b[0m\u001b[0mn\u001b[0m\u001b[0;34m]\u001b[0m\u001b[0;34m]\u001b[0m\u001b[0;34m,\u001b[0m\u001b[0mplt\u001b[0m\u001b[0;34m)\u001b[0m\u001b[0;34m\u001b[0m\u001b[0;34m\u001b[0m\u001b[0m\n\u001b[0m\u001b[1;32m      2\u001b[0m \u001b[0mplt\u001b[0m\u001b[0;34m.\u001b[0m\u001b[0mshow\u001b[0m\u001b[0;34m(\u001b[0m\u001b[0;34m)\u001b[0m\u001b[0;34m\u001b[0m\u001b[0;34m\u001b[0m\u001b[0m\n",
      "\u001b[0;32m<ipython-input-82-a630b84b7bee>\u001b[0m in \u001b[0;36mplotTime\u001b[0;34m(funList, points, argProvider, plot, repeat)\u001b[0m\n\u001b[1;32m     59\u001b[0m             \u001b[0margs\u001b[0m \u001b[0;34m=\u001b[0m \u001b[0margProvider\u001b[0m\u001b[0;34m(\u001b[0m\u001b[0mv\u001b[0m\u001b[0;34m)\u001b[0m\u001b[0;34m\u001b[0m\u001b[0;34m\u001b[0m\u001b[0m\n\u001b[1;32m     60\u001b[0m             \u001b[0;32mfor\u001b[0m \u001b[0mfun\u001b[0m \u001b[0;32min\u001b[0m \u001b[0mfunList\u001b[0m\u001b[0;34m:\u001b[0m\u001b[0;34m\u001b[0m\u001b[0;34m\u001b[0m\u001b[0m\n\u001b[0;32m---> 61\u001b[0;31m                 \u001b[0mtimeVal\u001b[0m\u001b[0;34m[\u001b[0m\u001b[0mfun\u001b[0m\u001b[0;34m.\u001b[0m\u001b[0m__name__\u001b[0m\u001b[0;34m]\u001b[0m\u001b[0;34m[\u001b[0m\u001b[0mi\u001b[0m\u001b[0;34m]\u001b[0m \u001b[0;34m+=\u001b[0m \u001b[0mtimeit\u001b[0m\u001b[0;34m.\u001b[0m\u001b[0mtimeit\u001b[0m\u001b[0;34m(\u001b[0m\u001b[0;32mlambda\u001b[0m\u001b[0;34m:\u001b[0m \u001b[0mfun\u001b[0m\u001b[0;34m(\u001b[0m\u001b[0;34m*\u001b[0m\u001b[0margs\u001b[0m\u001b[0;34m)\u001b[0m\u001b[0;34m,\u001b[0m \u001b[0mnumber\u001b[0m\u001b[0;34m=\u001b[0m\u001b[0;36m1\u001b[0m\u001b[0;34m)\u001b[0m\u001b[0;34m\u001b[0m\u001b[0;34m\u001b[0m\u001b[0m\n\u001b[0m\u001b[1;32m     62\u001b[0m \u001b[0;34m\u001b[0m\u001b[0m\n\u001b[1;32m     63\u001b[0m         \u001b[0;32mfor\u001b[0m \u001b[0mfun\u001b[0m \u001b[0;32min\u001b[0m \u001b[0mfunList\u001b[0m\u001b[0;34m:\u001b[0m\u001b[0;34m\u001b[0m\u001b[0;34m\u001b[0m\u001b[0m\n",
      "\u001b[0;32m~/anaconda3/lib/python3.8/timeit.py\u001b[0m in \u001b[0;36mtimeit\u001b[0;34m(stmt, setup, timer, number, globals)\u001b[0m\n\u001b[1;32m    231\u001b[0m            number=default_number, globals=None):\n\u001b[1;32m    232\u001b[0m     \u001b[0;34m\"\"\"Convenience function to create Timer object and call timeit method.\"\"\"\u001b[0m\u001b[0;34m\u001b[0m\u001b[0;34m\u001b[0m\u001b[0m\n\u001b[0;32m--> 233\u001b[0;31m     \u001b[0;32mreturn\u001b[0m \u001b[0mTimer\u001b[0m\u001b[0;34m(\u001b[0m\u001b[0mstmt\u001b[0m\u001b[0;34m,\u001b[0m \u001b[0msetup\u001b[0m\u001b[0;34m,\u001b[0m \u001b[0mtimer\u001b[0m\u001b[0;34m,\u001b[0m \u001b[0mglobals\u001b[0m\u001b[0;34m)\u001b[0m\u001b[0;34m.\u001b[0m\u001b[0mtimeit\u001b[0m\u001b[0;34m(\u001b[0m\u001b[0mnumber\u001b[0m\u001b[0;34m)\u001b[0m\u001b[0;34m\u001b[0m\u001b[0;34m\u001b[0m\u001b[0m\n\u001b[0m\u001b[1;32m    234\u001b[0m \u001b[0;34m\u001b[0m\u001b[0m\n\u001b[1;32m    235\u001b[0m def repeat(stmt=\"pass\", setup=\"pass\", timer=default_timer,\n",
      "\u001b[0;32m~/anaconda3/lib/python3.8/timeit.py\u001b[0m in \u001b[0;36mtimeit\u001b[0;34m(self, number)\u001b[0m\n\u001b[1;32m    175\u001b[0m         \u001b[0mgc\u001b[0m\u001b[0;34m.\u001b[0m\u001b[0mdisable\u001b[0m\u001b[0;34m(\u001b[0m\u001b[0;34m)\u001b[0m\u001b[0;34m\u001b[0m\u001b[0;34m\u001b[0m\u001b[0m\n\u001b[1;32m    176\u001b[0m         \u001b[0;32mtry\u001b[0m\u001b[0;34m:\u001b[0m\u001b[0;34m\u001b[0m\u001b[0;34m\u001b[0m\u001b[0m\n\u001b[0;32m--> 177\u001b[0;31m             \u001b[0mtiming\u001b[0m \u001b[0;34m=\u001b[0m \u001b[0mself\u001b[0m\u001b[0;34m.\u001b[0m\u001b[0minner\u001b[0m\u001b[0;34m(\u001b[0m\u001b[0mit\u001b[0m\u001b[0;34m,\u001b[0m \u001b[0mself\u001b[0m\u001b[0;34m.\u001b[0m\u001b[0mtimer\u001b[0m\u001b[0;34m)\u001b[0m\u001b[0;34m\u001b[0m\u001b[0;34m\u001b[0m\u001b[0m\n\u001b[0m\u001b[1;32m    178\u001b[0m         \u001b[0;32mfinally\u001b[0m\u001b[0;34m:\u001b[0m\u001b[0;34m\u001b[0m\u001b[0;34m\u001b[0m\u001b[0m\n\u001b[1;32m    179\u001b[0m             \u001b[0;32mif\u001b[0m \u001b[0mgcold\u001b[0m\u001b[0;34m:\u001b[0m\u001b[0;34m\u001b[0m\u001b[0;34m\u001b[0m\u001b[0m\n",
      "\u001b[0;32m~/anaconda3/lib/python3.8/timeit.py\u001b[0m in \u001b[0;36minner\u001b[0;34m(_it, _timer, _stmt)\u001b[0m\n",
      "\u001b[0;32m<ipython-input-82-a630b84b7bee>\u001b[0m in \u001b[0;36m<lambda>\u001b[0;34m()\u001b[0m\n\u001b[1;32m     59\u001b[0m             \u001b[0margs\u001b[0m \u001b[0;34m=\u001b[0m \u001b[0margProvider\u001b[0m\u001b[0;34m(\u001b[0m\u001b[0mv\u001b[0m\u001b[0;34m)\u001b[0m\u001b[0;34m\u001b[0m\u001b[0;34m\u001b[0m\u001b[0m\n\u001b[1;32m     60\u001b[0m             \u001b[0;32mfor\u001b[0m \u001b[0mfun\u001b[0m \u001b[0;32min\u001b[0m \u001b[0mfunList\u001b[0m\u001b[0;34m:\u001b[0m\u001b[0;34m\u001b[0m\u001b[0;34m\u001b[0m\u001b[0m\n\u001b[0;32m---> 61\u001b[0;31m                 \u001b[0mtimeVal\u001b[0m\u001b[0;34m[\u001b[0m\u001b[0mfun\u001b[0m\u001b[0;34m.\u001b[0m\u001b[0m__name__\u001b[0m\u001b[0;34m]\u001b[0m\u001b[0;34m[\u001b[0m\u001b[0mi\u001b[0m\u001b[0;34m]\u001b[0m \u001b[0;34m+=\u001b[0m \u001b[0mtimeit\u001b[0m\u001b[0;34m.\u001b[0m\u001b[0mtimeit\u001b[0m\u001b[0;34m(\u001b[0m\u001b[0;32mlambda\u001b[0m\u001b[0;34m:\u001b[0m \u001b[0mfun\u001b[0m\u001b[0;34m(\u001b[0m\u001b[0;34m*\u001b[0m\u001b[0margs\u001b[0m\u001b[0;34m)\u001b[0m\u001b[0;34m,\u001b[0m \u001b[0mnumber\u001b[0m\u001b[0;34m=\u001b[0m\u001b[0;36m1\u001b[0m\u001b[0;34m)\u001b[0m\u001b[0;34m\u001b[0m\u001b[0;34m\u001b[0m\u001b[0m\n\u001b[0m\u001b[1;32m     62\u001b[0m \u001b[0;34m\u001b[0m\u001b[0m\n\u001b[1;32m     63\u001b[0m         \u001b[0;32mfor\u001b[0m \u001b[0mfun\u001b[0m \u001b[0;32min\u001b[0m \u001b[0mfunList\u001b[0m\u001b[0;34m:\u001b[0m\u001b[0;34m\u001b[0m\u001b[0;34m\u001b[0m\u001b[0m\n",
      "\u001b[0;32m<ipython-input-20-1ccdfb2a98b9>\u001b[0m in \u001b[0;36mquick_sort_hoare\u001b[0;34m(data, start, end)\u001b[0m\n\u001b[1;32m     27\u001b[0m \u001b[0;34m\u001b[0m\u001b[0m\n\u001b[1;32m     28\u001b[0m     \u001b[0mquick_sort_hoare\u001b[0m\u001b[0;34m(\u001b[0m\u001b[0mdata\u001b[0m\u001b[0;34m,\u001b[0m\u001b[0mstart\u001b[0m\u001b[0;34m,\u001b[0m\u001b[0mj\u001b[0m\u001b[0;34m-\u001b[0m\u001b[0;36m1\u001b[0m\u001b[0;34m)\u001b[0m\u001b[0;34m\u001b[0m\u001b[0;34m\u001b[0m\u001b[0m\n\u001b[0;32m---> 29\u001b[0;31m     \u001b[0mquick_sort_hoare\u001b[0m\u001b[0;34m(\u001b[0m\u001b[0mdata\u001b[0m\u001b[0;34m,\u001b[0m\u001b[0mj\u001b[0m\u001b[0;34m+\u001b[0m\u001b[0;36m1\u001b[0m\u001b[0;34m,\u001b[0m\u001b[0mend\u001b[0m\u001b[0;34m)\u001b[0m\u001b[0;34m\u001b[0m\u001b[0;34m\u001b[0m\u001b[0m\n\u001b[0m\u001b[1;32m     30\u001b[0m     \u001b[0;32mreturn\u001b[0m\u001b[0;34m(\u001b[0m\u001b[0mdata\u001b[0m\u001b[0;34m)\u001b[0m\u001b[0;34m\u001b[0m\u001b[0;34m\u001b[0m\u001b[0m\n",
      "\u001b[0;32m<ipython-input-20-1ccdfb2a98b9>\u001b[0m in \u001b[0;36mquick_sort_hoare\u001b[0;34m(data, start, end)\u001b[0m\n\u001b[1;32m     26\u001b[0m         \u001b[0mdata\u001b[0m\u001b[0;34m[\u001b[0m\u001b[0mj\u001b[0m\u001b[0;34m]\u001b[0m\u001b[0;34m=\u001b[0m\u001b[0ms\u001b[0m\u001b[0;34m\u001b[0m\u001b[0;34m\u001b[0m\u001b[0m\n\u001b[1;32m     27\u001b[0m \u001b[0;34m\u001b[0m\u001b[0m\n\u001b[0;32m---> 28\u001b[0;31m     \u001b[0mquick_sort_hoare\u001b[0m\u001b[0;34m(\u001b[0m\u001b[0mdata\u001b[0m\u001b[0;34m,\u001b[0m\u001b[0mstart\u001b[0m\u001b[0;34m,\u001b[0m\u001b[0mj\u001b[0m\u001b[0;34m-\u001b[0m\u001b[0;36m1\u001b[0m\u001b[0;34m)\u001b[0m\u001b[0;34m\u001b[0m\u001b[0;34m\u001b[0m\u001b[0m\n\u001b[0m\u001b[1;32m     29\u001b[0m     \u001b[0mquick_sort_hoare\u001b[0m\u001b[0;34m(\u001b[0m\u001b[0mdata\u001b[0m\u001b[0;34m,\u001b[0m\u001b[0mj\u001b[0m\u001b[0;34m+\u001b[0m\u001b[0;36m1\u001b[0m\u001b[0;34m,\u001b[0m\u001b[0mend\u001b[0m\u001b[0;34m)\u001b[0m\u001b[0;34m\u001b[0m\u001b[0;34m\u001b[0m\u001b[0m\n\u001b[1;32m     30\u001b[0m     \u001b[0;32mreturn\u001b[0m\u001b[0;34m(\u001b[0m\u001b[0mdata\u001b[0m\u001b[0;34m)\u001b[0m\u001b[0;34m\u001b[0m\u001b[0;34m\u001b[0m\u001b[0m\n",
      "\u001b[0;32m<ipython-input-20-1ccdfb2a98b9>\u001b[0m in \u001b[0;36mquick_sort_hoare\u001b[0;34m(data, start, end)\u001b[0m\n\u001b[1;32m     26\u001b[0m         \u001b[0mdata\u001b[0m\u001b[0;34m[\u001b[0m\u001b[0mj\u001b[0m\u001b[0;34m]\u001b[0m\u001b[0;34m=\u001b[0m\u001b[0ms\u001b[0m\u001b[0;34m\u001b[0m\u001b[0;34m\u001b[0m\u001b[0m\n\u001b[1;32m     27\u001b[0m \u001b[0;34m\u001b[0m\u001b[0m\n\u001b[0;32m---> 28\u001b[0;31m     \u001b[0mquick_sort_hoare\u001b[0m\u001b[0;34m(\u001b[0m\u001b[0mdata\u001b[0m\u001b[0;34m,\u001b[0m\u001b[0mstart\u001b[0m\u001b[0;34m,\u001b[0m\u001b[0mj\u001b[0m\u001b[0;34m-\u001b[0m\u001b[0;36m1\u001b[0m\u001b[0;34m)\u001b[0m\u001b[0;34m\u001b[0m\u001b[0;34m\u001b[0m\u001b[0m\n\u001b[0m\u001b[1;32m     29\u001b[0m     \u001b[0mquick_sort_hoare\u001b[0m\u001b[0;34m(\u001b[0m\u001b[0mdata\u001b[0m\u001b[0;34m,\u001b[0m\u001b[0mj\u001b[0m\u001b[0;34m+\u001b[0m\u001b[0;36m1\u001b[0m\u001b[0;34m,\u001b[0m\u001b[0mend\u001b[0m\u001b[0;34m)\u001b[0m\u001b[0;34m\u001b[0m\u001b[0;34m\u001b[0m\u001b[0m\n\u001b[1;32m     30\u001b[0m     \u001b[0;32mreturn\u001b[0m\u001b[0;34m(\u001b[0m\u001b[0mdata\u001b[0m\u001b[0;34m)\u001b[0m\u001b[0;34m\u001b[0m\u001b[0;34m\u001b[0m\u001b[0m\n",
      "\u001b[0;32m<ipython-input-20-1ccdfb2a98b9>\u001b[0m in \u001b[0;36mquick_sort_hoare\u001b[0;34m(data, start, end)\u001b[0m\n\u001b[1;32m     26\u001b[0m         \u001b[0mdata\u001b[0m\u001b[0;34m[\u001b[0m\u001b[0mj\u001b[0m\u001b[0;34m]\u001b[0m\u001b[0;34m=\u001b[0m\u001b[0ms\u001b[0m\u001b[0;34m\u001b[0m\u001b[0;34m\u001b[0m\u001b[0m\n\u001b[1;32m     27\u001b[0m \u001b[0;34m\u001b[0m\u001b[0m\n\u001b[0;32m---> 28\u001b[0;31m     \u001b[0mquick_sort_hoare\u001b[0m\u001b[0;34m(\u001b[0m\u001b[0mdata\u001b[0m\u001b[0;34m,\u001b[0m\u001b[0mstart\u001b[0m\u001b[0;34m,\u001b[0m\u001b[0mj\u001b[0m\u001b[0;34m-\u001b[0m\u001b[0;36m1\u001b[0m\u001b[0;34m)\u001b[0m\u001b[0;34m\u001b[0m\u001b[0;34m\u001b[0m\u001b[0m\n\u001b[0m\u001b[1;32m     29\u001b[0m     \u001b[0mquick_sort_hoare\u001b[0m\u001b[0;34m(\u001b[0m\u001b[0mdata\u001b[0m\u001b[0;34m,\u001b[0m\u001b[0mj\u001b[0m\u001b[0;34m+\u001b[0m\u001b[0;36m1\u001b[0m\u001b[0;34m,\u001b[0m\u001b[0mend\u001b[0m\u001b[0;34m)\u001b[0m\u001b[0;34m\u001b[0m\u001b[0;34m\u001b[0m\u001b[0m\n\u001b[1;32m     30\u001b[0m     \u001b[0;32mreturn\u001b[0m\u001b[0;34m(\u001b[0m\u001b[0mdata\u001b[0m\u001b[0;34m)\u001b[0m\u001b[0;34m\u001b[0m\u001b[0;34m\u001b[0m\u001b[0m\n",
      "\u001b[0;32m<ipython-input-20-1ccdfb2a98b9>\u001b[0m in \u001b[0;36mquick_sort_hoare\u001b[0;34m(data, start, end)\u001b[0m\n\u001b[1;32m     27\u001b[0m \u001b[0;34m\u001b[0m\u001b[0m\n\u001b[1;32m     28\u001b[0m     \u001b[0mquick_sort_hoare\u001b[0m\u001b[0;34m(\u001b[0m\u001b[0mdata\u001b[0m\u001b[0;34m,\u001b[0m\u001b[0mstart\u001b[0m\u001b[0;34m,\u001b[0m\u001b[0mj\u001b[0m\u001b[0;34m-\u001b[0m\u001b[0;36m1\u001b[0m\u001b[0;34m)\u001b[0m\u001b[0;34m\u001b[0m\u001b[0;34m\u001b[0m\u001b[0m\n\u001b[0;32m---> 29\u001b[0;31m     \u001b[0mquick_sort_hoare\u001b[0m\u001b[0;34m(\u001b[0m\u001b[0mdata\u001b[0m\u001b[0;34m,\u001b[0m\u001b[0mj\u001b[0m\u001b[0;34m+\u001b[0m\u001b[0;36m1\u001b[0m\u001b[0;34m,\u001b[0m\u001b[0mend\u001b[0m\u001b[0;34m)\u001b[0m\u001b[0;34m\u001b[0m\u001b[0;34m\u001b[0m\u001b[0m\n\u001b[0m\u001b[1;32m     30\u001b[0m     \u001b[0;32mreturn\u001b[0m\u001b[0;34m(\u001b[0m\u001b[0mdata\u001b[0m\u001b[0;34m)\u001b[0m\u001b[0;34m\u001b[0m\u001b[0;34m\u001b[0m\u001b[0m\n",
      "\u001b[0;32m<ipython-input-20-1ccdfb2a98b9>\u001b[0m in \u001b[0;36mquick_sort_hoare\u001b[0;34m(data, start, end)\u001b[0m\n\u001b[1;32m     16\u001b[0m             \u001b[0mi\u001b[0m\u001b[0;34m+=\u001b[0m\u001b[0;36m1\u001b[0m\u001b[0;34m\u001b[0m\u001b[0;34m\u001b[0m\u001b[0m\n\u001b[1;32m     17\u001b[0m \u001b[0;34m\u001b[0m\u001b[0m\n\u001b[0;32m---> 18\u001b[0;31m         \u001b[0;32mwhile\u001b[0m \u001b[0mdata\u001b[0m\u001b[0;34m[\u001b[0m\u001b[0mj\u001b[0m\u001b[0;34m]\u001b[0m\u001b[0;34m>\u001b[0m\u001b[0mp\u001b[0m\u001b[0;34m:\u001b[0m\u001b[0;34m\u001b[0m\u001b[0;34m\u001b[0m\u001b[0m\n\u001b[0m\u001b[1;32m     19\u001b[0m             \u001b[0mj\u001b[0m\u001b[0;34m-=\u001b[0m\u001b[0;36m1\u001b[0m\u001b[0;34m\u001b[0m\u001b[0;34m\u001b[0m\u001b[0m\n\u001b[1;32m     20\u001b[0m \u001b[0;34m\u001b[0m\u001b[0m\n",
      "\u001b[0;31mKeyboardInterrupt\u001b[0m: "
     ]
    }
   ],
   "source": [
    "plotTime([quick_sort_bubble,quick_sort_hoare,quick_sort_sbubble],linspace(80000,90000,100),lambda n:[array[:n]],plt)\n",
    "plt.show()"
   ]
  },
  {
   "cell_type": "code",
   "execution_count": 68,
   "metadata": {},
   "outputs": [],
   "source": [
    "def Lord_Of_The_quick_sort(data,start=0,end=None,threshold=10):\n",
    "    if end == None:\n",
    "        end = len(data)-1\n",
    "    elif end >= len(data):\n",
    "        end = len(data)-1\n",
    "    if start >= end:\n",
    "        return \n",
    "    if end-start <= threshold :\n",
    "        return sbubble_sort(data,start,end+1)\n",
    "    \n",
    "    mid = (start + end)//2\n",
    "    \n",
    "    if (data[mid]<data[start]):\n",
    "        s=data[mid]\n",
    "        data[mid]=data[start]\n",
    "        data[start]=s\n",
    "        \n",
    "    if (data[end]<data[start]):\n",
    "        s=data[end]\n",
    "        data[end]=data[start]\n",
    "        data[start]=s\n",
    "        \n",
    "    if (data[mid]<data[end]):\n",
    "        s=data[mid]\n",
    "        data[mid]=data[end]\n",
    "        data[end]=s\n",
    "    \n",
    "    p = data[end]\n",
    "    i = start\n",
    "    j = end\n",
    "    \n",
    "    while True :\n",
    "        \n",
    "        while data[i]<p :\n",
    "            i+=1\n",
    "        \n",
    "        while data[j]>p:\n",
    "            j-=1\n",
    "        \n",
    "        if i>=j:\n",
    "            break\n",
    "        \n",
    "        s=data[i]\n",
    "        data[i]=data[j]\n",
    "        data[j]=s\n",
    "    \n",
    "    Lord_Of_The_quick_sort(data,start,j-1)\n",
    "    Lord_Of_The_quick_sort(data,j+1,end)\n",
    "    return(data)"
   ]
  },
  {
   "cell_type": "code",
   "execution_count": 70,
   "metadata": {},
   "outputs": [
    {
     "data": {
      "image/png": "[encoded data removed]",
      "text/plain": [
       "<Figure size 432x288 with 1 Axes>"
      ]
     },
     "metadata": {
      "needs_background": "light"
     },
     "output_type": "display_data"
    }
   ],
   "source": [
    "plotTime([quick_sort_sbubble],linspace(30000,40000,100),lambda n:[array[:n]],plt)\n",
    "plotTime([Lord_Of_The_quick_sort],linspace(30000,40000,100),lambda n:[array[:n]],plt)\n",
    "plt.show()"
   ]
  },
  {
   "cell_type": "code",
   "execution_count": 60,
   "metadata": {},
   "outputs": [
    {
     "name": "stdout",
     "output_type": "stream",
     "text": [
      "[100396, 67809, 148918, 128594, 7871, 198968, 222318, 193549, 15644, 306726, 537969, 605897, 808334, 815731, 817982]\n",
      "[67809, 100396, 128594, 7871, 148918, 198968, 193549, 15644, 222318, 306726, 537969, 605897, 808334, 815731, 817982]\n",
      "[67809, 100396, 7871, 128594, 148918, 193549, 15644, 198968, 222318, 306726, 537969, 605897, 808334, 815731, 817982]\n",
      "[67809, 7871, 100396, 128594, 148918, 15644, 193549, 198968, 222318, 306726, 537969, 605897, 808334, 815731, 817982]\n",
      "[7871, 67809, 100396, 128594, 15644, 148918, 193549, 198968, 222318, 306726, 537969, 605897, 808334, 815731, 817982]\n",
      "[7871, 67809, 100396, 15644, 128594, 148918, 193549, 198968, 222318, 306726, 537969, 605897, 808334, 815731, 817982]\n",
      "[7871, 67809, 15644, 100396, 128594, 148918, 193549, 198968, 222318, 306726, 537969, 605897, 808334, 815731, 817982]\n",
      "[7871, 15644, 67809, 100396, 128594, 148918, 193549, 198968, 222318, 306726, 537969, 605897, 808334, 815731, 817982]\n",
      "[7871, 15644, 67809, 100396, 128594, 148918, 193549, 198968, 222318, 306726, 537969, 605897, 808334, 815731, 817982]\n"
     ]
    }
   ],
   "source": []
  },
  {
   "cell_type": "code",
   "execution_count": null,
   "metadata": {},
   "outputs": [],
   "source": []
  }
 ],
 "metadata": {
  "kernelspec": {
   "display_name": "Python 3",
   "language": "python",
   "name": "python3"
  },
  "language_info": {
   "codemirror_mode": {
    "name": "ipython",
    "version": 3
   },
   "file_extension": ".py",
   "mimetype": "text/x-python",
   "name": "python",
   "nbconvert_exporter": "python",
   "pygments_lexer": "ipython3",
   "version": "3.8.5"
  }
 },
 "nbformat": 4,
 "nbformat_minor": 4
}
